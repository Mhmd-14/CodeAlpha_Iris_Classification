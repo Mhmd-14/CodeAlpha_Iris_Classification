{
 "cells": [
  {
   "cell_type": "code",
   "execution_count": 2,
   "id": "a749b6d6",
   "metadata": {},
   "outputs": [
    {
     "data": {
      "text/plain": [
       "<module 'run_pipeline' from 'c:\\\\Users\\\\ADMIN\\\\Desktop\\\\Data Science\\\\Code Alpha Internship\\\\Task_1_Iris_Classification\\\\src\\\\run_pipeline.py'>"
      ]
     },
     "execution_count": 2,
     "metadata": {},
     "output_type": "execute_result"
    }
   ],
   "source": [
    "import sys\n",
    "import os\n",
    "sys.path.insert(0, os.path.abspath(os.path.join('..', 'src')))\n",
    "\n",
    "import importlib\n",
    "import run_pipeline\n",
    "importlib.reload(run_pipeline)"
   ]
  },
  {
   "cell_type": "code",
   "execution_count": 3,
   "id": "04b52aa9",
   "metadata": {},
   "outputs": [
    {
     "name": "stdout",
     "output_type": "stream",
     "text": [
      "Starting full pipeline...\n",
      "Processed data saved to ../data/processed/Iris_processed.csv\n",
      "Accuracy on training set: 0.9667\n",
      "\n",
      "Classification Report:\n",
      "               precision    recall  f1-score   support\n",
      "\n",
      "           0       1.00      1.00      1.00        40\n",
      "           1       0.97      0.93      0.95        41\n",
      "           2       0.93      0.97      0.95        39\n",
      "\n",
      "    accuracy                           0.97       120\n",
      "   macro avg       0.97      0.97      0.97       120\n",
      "weighted avg       0.97      0.97      0.97       120\n",
      "\n",
      "Accuracy on testing set: 1.0000\n",
      "\n",
      "Classification Report:\n",
      "               precision    recall  f1-score   support\n",
      "\n",
      "           0       1.00      1.00      1.00        10\n",
      "           1       1.00      1.00      1.00         9\n",
      "           2       1.00      1.00      1.00        11\n",
      "\n",
      "    accuracy                           1.00        30\n",
      "   macro avg       1.00      1.00      1.00        30\n",
      "weighted avg       1.00      1.00      1.00        30\n",
      "\n",
      "Model saved to ../models/logistic_model.pkl\n"
     ]
    }
   ],
   "source": [
    "# Run the model pipeline\n",
    "\n",
    "from run_pipeline import run_training_pipeline\n",
    "\n",
    "model = run_training_pipeline('../data/raw/Iris.csv', '../data/processed/Iris_processed.csv', target_col='Species')"
   ]
  }
 ],
 "metadata": {
  "kernelspec": {
   "display_name": "venv",
   "language": "python",
   "name": "python3"
  },
  "language_info": {
   "codemirror_mode": {
    "name": "ipython",
    "version": 3
   },
   "file_extension": ".py",
   "mimetype": "text/x-python",
   "name": "python",
   "nbconvert_exporter": "python",
   "pygments_lexer": "ipython3",
   "version": "3.12.3"
  }
 },
 "nbformat": 4,
 "nbformat_minor": 5
}
